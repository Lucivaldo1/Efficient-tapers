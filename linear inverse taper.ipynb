{
 "cells": [
  {
   "cell_type": "code",
   "id": "initial_id",
   "metadata": {
    "collapsed": true,
    "ExecuteTime": {
     "end_time": "2024-12-13T16:58:16.751603Z",
     "start_time": "2024-12-13T16:58:15.249745Z"
    }
   },
   "source": [
    "import sys, os\n",
    "import numpy as np\n",
    "import matplotlib.pyplot as plt\n",
    "import warnings\n",
    "from scipy import interpolate\n",
    "from matplotlib.pyplot import legend, title\n",
    "from scipy.special import y0_zeros\n",
    "\n",
    "sys.path.append('C:\\\\Program Files\\\\Lumerical\\\\v221\\\\api\\\\python')\n",
    "sys.path.append('C:\\\\Program Files\\\\Lumerical\\\\v221\\\\api\\\\python\\\\lumapi.py')"
   ],
   "outputs": [],
   "execution_count": 1
  },
  {
   "metadata": {
    "ExecuteTime": {
     "end_time": "2024-12-13T16:58:18.734529Z",
     "start_time": "2024-12-13T16:58:16.751603Z"
    }
   },
   "cell_type": "code",
   "source": [
    "warnings.filterwarnings(\"ignore\", category=SyntaxWarning)\n",
    "import lumapi\n",
    "emeApi = lumapi.MODE()"
   ],
   "id": "2b632e2d1c9fdb99",
   "outputs": [],
   "execution_count": 2
  },
  {
   "metadata": {},
   "cell_type": "markdown",
   "source": "Units",
   "id": "4dc6318abe89f13a"
  },
  {
   "metadata": {
    "ExecuteTime": {
     "end_time": "2024-12-13T16:58:19.063139Z",
     "start_time": "2024-12-13T16:58:19.060484Z"
    }
   },
   "cell_type": "code",
   "source": [
    "um = 1e-6\n",
    "nm = 1e-9"
   ],
   "id": "ed7f110a3f29a668",
   "outputs": [],
   "execution_count": 3
  },
  {
   "metadata": {},
   "cell_type": "markdown",
   "source": "Device parameters",
   "id": "51a6688c1c0dfb49"
  },
  {
   "metadata": {
    "ExecuteTime": {
     "end_time": "2024-12-13T16:58:19.070141Z",
     "start_time": "2024-12-13T16:58:19.067320Z"
    }
   },
   "cell_type": "code",
   "source": [
    "#inverse tapers\n",
    "taper_length      = 5*um\n",
    "taper_larger_tip  = 12*um\n",
    "taper_smaller_tip = 0.5*um\n",
    "taper_tip_sweep = np.linspace(0.01*um, 0.55*um,20)\n",
    "\n",
    "#wire waveguide\n",
    "wg_length = 2*um\n",
    "wg_width  = 0.5*um\n",
    "\n",
    "wg_length2 = 3*um\n",
    "wg_width2  = 12*um\n",
    "#general\n",
    "height = 220*nm"
   ],
   "id": "9f37fa0764f08952",
   "outputs": [],
   "execution_count": 4
  },
  {
   "metadata": {},
   "cell_type": "markdown",
   "source": "Materials",
   "id": "da9f6f46f6c5664f"
  },
  {
   "metadata": {
    "ExecuteTime": {
     "end_time": "2024-12-13T16:58:19.075735Z",
     "start_time": "2024-12-13T16:58:19.074141Z"
    }
   },
   "cell_type": "code",
   "source": [
    "materialClad = \"SiO2 (Glass) - Palik\"\n",
    "materialSi = \"Si (Silicon) - Palik\""
   ],
   "id": "f0aeba30f8470250",
   "outputs": [],
   "execution_count": 5
  },
  {
   "metadata": {
    "ExecuteTime": {
     "end_time": "2024-12-13T16:58:19.491842Z",
     "start_time": "2024-12-13T16:58:19.078704Z"
    }
   },
   "cell_type": "code",
   "source": [
    "emeApi.switchtolayout()\n",
    "emeApi.deleteall()\n",
    "emeApi.cleardcard()"
   ],
   "id": "b2124d29109d8e95",
   "outputs": [],
   "execution_count": 6
  },
  {
   "metadata": {
    "ExecuteTime": {
     "end_time": "2024-12-13T16:58:20.190068Z",
     "start_time": "2024-12-13T16:58:19.496895Z"
    }
   },
   "cell_type": "code",
   "source": [
    "emeApi.addstructuregroup()\n",
    "dev_layer = 'GDS_LAYER_35:4'\n",
    "emeApi.set('name', dev_layer)"
   ],
   "id": "fc10572cb3ce3dab",
   "outputs": [],
   "execution_count": 7
  },
  {
   "metadata": {},
   "cell_type": "markdown",
   "source": "Taper",
   "id": "dbb6c6debd1de0bb"
  },
  {
   "metadata": {},
   "cell_type": "markdown",
   "source": [
    " $z′ = \\frac{(z−z0)}{(z1−z0)}$\n",
    " \n",
    "$f(z') = z'$\n",
    "\n",
    "Where z0 is the starting point and z1 is the ending point\n"
   ],
   "id": "a90a55ff11592c72"
  },
  {
   "metadata": {
    "ExecuteTime": {
     "end_time": "2024-12-13T16:58:20.195767Z",
     "start_time": "2024-12-13T16:58:20.193151Z"
    }
   },
   "cell_type": "code",
   "source": [
    "x0 = 0\n",
    "x1 = taper_length\n",
    "y0 = taper_larger_tip/2\n",
    "y1 = taper_smaller_tip/2\n",
    "a, b, c = 0.4,0.5,7\n",
    "x = np.linspace(taper_length,0, 100)\n",
    "#x = np.linspace(0, 1, 100)\n",
    "alpha = (x-x0)/(x1-x0)\n",
    "#alpha = (np.exp((x-x0)/(x1-x0))-1)/(np.exp(1)-1)\n",
    "#alpha =  a*(b*x**2 + (1-b)*x) + (1-a)*np.sin((x*c*np.pi/2))**2\n",
    "equation = y0 + alpha * (y1-y0)\n",
    "\n",
    "#equation =  np.sqrt(taper_smaller_tip**2 + (2 * alpha * lambda0 / neff) * x) \n",
    "#x = x * taper_length\n",
    "upper = np.column_stack((x,equation))\n",
    "lower = np.column_stack((x[::-1], -equation[::-1]))\n",
    "taper = np.vstack((upper, lower))"
   ],
   "id": "2645229b360cb19d",
   "outputs": [],
   "execution_count": 8
  },
  {
   "metadata": {
    "ExecuteTime": {
     "end_time": "2024-12-13T16:58:20.902426Z",
     "start_time": "2024-12-13T16:58:20.202374Z"
    }
   },
   "cell_type": "code",
   "source": [
    "emeApi.addpoly()\n",
    "emeApi.addtogroup(dev_layer)"
   ],
   "id": "6e5c61178ff5b284",
   "outputs": [],
   "execution_count": 9
  },
  {
   "metadata": {
    "ExecuteTime": {
     "end_time": "2024-12-13T16:58:21.889926Z",
     "start_time": "2024-12-13T16:58:20.918854Z"
    }
   },
   "cell_type": "code",
   "source": [
    "emeApi.set('name', 'taper')\n",
    "emeApi.set('vertices', taper)   \n",
    "emeApi.set('x', 0)\n",
    "emeApi.set('y', 0)\n",
    "emeApi.set('z', height/2)\n",
    "emeApi.set('z span', height)\n",
    "emeApi.set('material', materialSi)"
   ],
   "id": "c776d063eccc8085",
   "outputs": [],
   "execution_count": 10
  },
  {
   "metadata": {},
   "cell_type": "markdown",
   "source": "    Wire waveguide",
   "id": "fa41b7639d9390c5"
  },
  {
   "metadata": {
    "ExecuteTime": {
     "end_time": "2024-12-13T16:58:23.691689Z",
     "start_time": "2024-12-13T16:58:21.899878Z"
    }
   },
   "cell_type": "code",
   "source": [
    "emeApi.addrect()\n",
    "emeApi.addtogroup(dev_layer)\n",
    "emeApi.set('name', 'wire waveguide')\n",
    "emeApi.set('x', taper_length + wg_length/2)\n",
    "emeApi.set('x span', wg_length)\n",
    "emeApi.set('y', 0)\n",
    "emeApi.set('y span', wg_width)\n",
    "emeApi.set('z', height/2)\n",
    "emeApi.set('z span', height)\n",
    "emeApi.set('material', materialSi)"
   ],
   "id": "121d710d196607d2",
   "outputs": [],
   "execution_count": 11
  },
  {
   "metadata": {},
   "cell_type": "markdown",
   "source": "left wave guide",
   "id": "76f147972c6667c9"
  },
  {
   "metadata": {
    "ExecuteTime": {
     "end_time": "2024-12-13T16:58:25.514525Z",
     "start_time": "2024-12-13T16:58:23.704563Z"
    }
   },
   "cell_type": "code",
   "source": [
    "emeApi.addrect()\n",
    "emeApi.addtogroup(dev_layer)\n",
    "emeApi.set('name', 'wire waveguide 2')\n",
    "emeApi.set('x', -wg_length2/2)\n",
    "emeApi.set('x span', wg_length2)\n",
    "emeApi.set('y', 0)\n",
    "emeApi.set('y span', wg_width2)\n",
    "emeApi.set('z', height/2)\n",
    "emeApi.set('z span', height)\n",
    "emeApi.set('material', materialSi)"
   ],
   "id": "197f8e44d8ebe5bc",
   "outputs": [],
   "execution_count": 12
  },
  {
   "metadata": {},
   "cell_type": "markdown",
   "source": "Analysis    ",
   "id": "333b5478e654af7b"
  },
  {
   "metadata": {
    "ExecuteTime": {
     "end_time": "2024-12-13T16:58:26.091438Z",
     "start_time": "2024-12-13T16:58:25.529071Z"
    }
   },
   "cell_type": "code",
   "source": [
    "mesh_cells = 200\n",
    "emeApi.addeme()"
   ],
   "id": "c6009c28cea7ca31",
   "outputs": [
    {
     "data": {
      "text/plain": [
       "<lumapi.SimObject at 0x1e77f759e80>"
      ]
     },
     "execution_count": 13,
     "metadata": {},
     "output_type": "execute_result"
    }
   ],
   "execution_count": 13
  },
  {
   "metadata": {
    "ExecuteTime": {
     "end_time": "2024-12-13T16:58:27.625447Z",
     "start_time": "2024-12-13T16:58:26.099772Z"
    }
   },
   "cell_type": "code",
   "source": [
    "emeApi.switchtolayout()\n",
    "emeApi.set('x', 0)\n",
    "emeApi.set('x min', emeApi.getnamed(f'{dev_layer}::wire waveguide 2', 'x min'))\n",
    "emeApi.set('y', 0)\n",
    "emeApi.set('y span', taper_larger_tip*1.5)\n",
    "emeApi.set('z', height/2)\n",
    "emeApi.set('z span', height*1.5) \n",
    "emeApi.set('background material', materialClad)\n",
    "emeApi.set('mesh cells y', mesh_cells)\n",
    "emeApi.set('mesh cells z', mesh_cells)"
   ],
   "id": "7d57fdbcaaf4274d",
   "outputs": [],
   "execution_count": 14
  },
  {
   "metadata": {
    "ExecuteTime": {
     "end_time": "2024-12-13T16:58:29.163228Z",
     "start_time": "2024-12-13T16:58:27.643328Z"
    }
   },
   "cell_type": "code",
   "source": [
    "cell_wgd = 1\n",
    "cell_taper = 10\n",
    "cell_wgd2 = 1\n",
    "\n",
    "method_wgd   = 0\n",
    "method_taper = 1\n",
    "\n",
    "modes_wgd   = 20\n",
    "modes_taper = 20\n",
    "\n",
    "emeApi.set('number of cell groups', 3) #waveguide -> taper -> waveguide\n",
    "emeApi.set('group spans', np.block([[wg_length2], [taper_length], [wg_length]]))\n",
    "emeApi.set('cells', np.block([[cell_wgd], [cell_taper], [cell_wgd2]]))\n",
    "emeApi.set('subcell method', np.block([[method_wgd], [method_taper], [method_wgd]]))\n",
    "emeApi.set('allow custom eigensolver settings', True)\n",
    "emeApi.set('modes', np.block([[modes_wgd], [modes_taper], [modes_wgd]]))\n",
    "emeApi.set('display cells', 1)\n",
    "'''emeApi.set('number of cell groups', 1) #waveguide -> taper -> waveguide\n",
    "emeApi.set('group spans', np.block([[taper_length]]))\n",
    "emeApi.set('cells', np.block([ [cell_taper],]))\n",
    "emeApi.set('subcell method', np.block([[method_taper]]))\n",
    "emeApi.set('allow custom eigensolver settings', True)\n",
    "emeApi.set('modes', np.block([[modes_taper]]))\n",
    "emeApi.set('display cells', 1)'''\n",
    "\n",
    "#emeApi.set('min mesh step', 0.5*nm)\n",
    "\n",
    "#boundary conditions\n",
    "emeApi.set('y min bc', 'PML')\n",
    "emeApi.set('y max bc', 'PML')\n",
    "emeApi.set('z min bc', 'Symmetric')\n",
    "emeApi.set('z max bc', 'PML')"
   ],
   "id": "e8217d735f5f33ef",
   "outputs": [],
   "execution_count": 15
  },
  {
   "metadata": {
    "ExecuteTime": {
     "end_time": "2024-12-13T16:58:30.568681Z",
     "start_time": "2024-12-13T16:58:29.177871Z"
    }
   },
   "cell_type": "code",
   "source": [
    "emeApi.addmesh()\n",
    "emeApi.set('x', taper_length/2)\n",
    "emeApi.set('x span', taper_length)\n",
    "emeApi.set('y', 0)\n",
    "emeApi.set('y span', taper_larger_tip)  \n",
    "emeApi.set('z', height/2)\n",
    "emeApi.set('z span', height)"
   ],
   "id": "ca446c96b23b3234",
   "outputs": [],
   "execution_count": 16
  },
  {
   "metadata": {
    "ExecuteTime": {
     "end_time": "2024-12-13T16:58:32.256701Z",
     "start_time": "2024-12-13T16:58:30.584629Z"
    }
   },
   "cell_type": "code",
   "source": [
    "emeApi.addemeprofile()\n",
    "emeApi.set('name', 'profile')\n",
    "emeApi.set('monitor type', 3)\n",
    "emeApi.set('x', 2*um)\n",
    "emeApi.set('x span', emeApi.getnamed('EME', 'x span'))\n",
    "emeApi.set('y',0)\n",
    "emeApi.set('y span', taper_larger_tip*1.5)\n",
    "emeApi.set('z', height/2)"
   ],
   "id": "468879fbbe09f929",
   "outputs": [],
   "execution_count": 17
  },
  {
   "metadata": {},
   "cell_type": "markdown",
   "source": "simulation",
   "id": "dd14a1d0b408526b"
  },
  {
   "metadata": {
    "ExecuteTime": {
     "end_time": "2024-12-13T17:17:25.081382Z",
     "start_time": "2024-12-13T16:58:32.272386Z"
    }
   },
   "cell_type": "code",
   "source": [
    "emeApi.save('taperEME')\n",
    "emeApi.run()"
   ],
   "id": "45a3b5661ceccdea",
   "outputs": [],
   "execution_count": 18
  },
  {
   "metadata": {
    "ExecuteTime": {
     "end_time": "2024-12-13T17:25:34.462105Z",
     "start_time": "2024-12-13T17:25:31.018202Z"
    }
   },
   "cell_type": "code",
   "source": "emeApi.emepropagate()",
   "id": "146bd5da22131287",
   "outputs": [],
   "execution_count": 22
  },
  {
   "metadata": {
    "ExecuteTime": {
     "end_time": "2024-12-13T17:25:36.481789Z",
     "start_time": "2024-12-13T17:25:34.462105Z"
    }
   },
   "cell_type": "code",
   "source": [
    "interval = 0.1\n",
    "emeApi.setemeanalysis('propagation sweep', 1)\n",
    "emeApi.setemeanalysis('parameter', 'group span 2')\n",
    "emeApi.setemeanalysis('start',1*um)\n",
    "emeApi.setemeanalysis('stop', 6*um)\n",
    "emeApi.setemeanalysis('interval', interval)\n",
    "emeApi.emesweep('propagation sweep')\n",
    "S = emeApi.getemesweep('S')\n",
    "group_span = S['group_span_2']\n"
   ],
   "id": "f7b1a1b2dc3916f5",
   "outputs": [],
   "execution_count": 23
  },
  {
   "metadata": {
    "ExecuteTime": {
     "end_time": "2024-12-13T17:26:57.725292Z",
     "start_time": "2024-12-13T17:26:57.589537Z"
    }
   },
   "cell_type": "code",
   "source": [
    "x_article = [1, 1.5, 2, 2.5, 3, 3.5, 4, 4.5, 5, 5.5, 6]\n",
    "y_article = [0.68, 0.86, 0.92, 0.93, 0.94, 0.95, 0.96, 0.97, 0.97, 0.97, 0.98]\n",
    "T = np.abs(S['s21'])**2\n",
    "T_dB = 10*np.log10(T)\n",
    "plt.scatter(x_article, y_article, color='red')\n",
    "plt.plot(group_span/um, T, 'black', lw=1.5, label='S21')\n",
    "plt.xlabel(r'L taper $(\\mu m)$', fontsize = 12)\n",
    "plt.ylabel('Transmitância', fontsize = 12)\n",
    "#plt.xlim([span_box*0.9/um,span_box*1.1/um])\n",
    "#plt.ylim([0,0.55])\n",
    "plt.legend()\n",
    "plt.title(r'Transmitância vs L')\n",
    "plt.grid(True)\n",
    "plt.savefig('T')"
   ],
   "id": "cd19359058acd1e6",
   "outputs": [
    {
     "data": {
      "text/plain": [
       "<Figure size 640x480 with 1 Axes>"
      ],
      "image/png": "[encoded data removed]"
     },
     "metadata": {},
     "output_type": "display_data"
    }
   ],
   "execution_count": 25
  }
 ],
 "metadata": {
  "kernelspec": {
   "display_name": "Python 3",
   "language": "python",
   "name": "python3"
  },
  "language_info": {
   "codemirror_mode": {
    "name": "ipython",
    "version": 2
   },
   "file_extension": ".py",
   "mimetype": "text/x-python",
   "name": "python",
   "nbconvert_exporter": "python",
   "pygments_lexer": "ipython2",
   "version": "2.7.6"
  }
 },
 "nbformat": 4,
 "nbformat_minor": 5
}
