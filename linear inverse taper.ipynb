{
 "cells": [
  {
   "cell_type": "code",
   "id": "initial_id",
   "metadata": {
    "collapsed": true,
    "ExecuteTime": {
     "end_time": "2024-11-27T20:53:39.046312Z",
     "start_time": "2024-11-27T20:53:37.722117Z"
    }
   },
   "source": [
    "import sys, os\n",
    "import numpy as np\n",
    "import matplotlib.pyplot as plt\n",
    "import warnings\n",
    "from scipy import interpolate\n",
    "from matplotlib.pyplot import legend, title\n",
    "from scipy.special import y0_zeros\n",
    "\n",
    "sys.path.append('C:\\\\Program Files\\\\Lumerical\\\\v221\\\\api\\\\python')\n",
    "sys.path.append('C:\\\\Program Files\\\\Lumerical\\\\v221\\\\api\\\\python\\\\lumapi.py')"
   ],
   "outputs": [],
   "execution_count": 1
  },
  {
   "metadata": {
    "ExecuteTime": {
     "end_time": "2024-11-27T20:53:41.027216Z",
     "start_time": "2024-11-27T20:53:39.047233Z"
    }
   },
   "cell_type": "code",
   "source": [
    "warnings.filterwarnings(\"ignore\", category=SyntaxWarning)\n",
    "import lumapi\n",
    "emeApi = lumapi.MODE()"
   ],
   "id": "2b632e2d1c9fdb99",
   "outputs": [],
   "execution_count": 2
  },
  {
   "metadata": {},
   "cell_type": "markdown",
   "source": "Units",
   "id": "4dc6318abe89f13a"
  },
  {
   "metadata": {
    "ExecuteTime": {
     "end_time": "2024-11-27T20:53:41.347867Z",
     "start_time": "2024-11-27T20:53:41.342187Z"
    }
   },
   "cell_type": "code",
   "source": [
    "um = 1e-6\n",
    "nm = 1e-9"
   ],
   "id": "ed7f110a3f29a668",
   "outputs": [],
   "execution_count": 3
  },
  {
   "metadata": {},
   "cell_type": "markdown",
   "source": "Device parameters",
   "id": "51a6688c1c0dfb49"
  },
  {
   "metadata": {
    "ExecuteTime": {
     "end_time": "2024-11-27T21:02:31.967361Z",
     "start_time": "2024-11-27T21:02:31.956454Z"
    }
   },
   "cell_type": "code",
   "source": [
    "#inverse tapers\n",
    "taper_length      = 300*um\n",
    "taper_larger_tip  = 0.55*um\n",
    "taper_smaller_tip = 0.1*um\n",
    "taper_tip_sweep = np.linspace(0, 0.55*um,10)\n",
    "\n",
    "#wire waveguide\n",
    "wg_length = 100*um\n",
    "wg_width  = 0.55*um\n",
    "\n",
    "#general\n",
    "height = 0.34*um"
   ],
   "id": "9f37fa0764f08952",
   "outputs": [],
   "execution_count": 24
  },
  {
   "metadata": {},
   "cell_type": "markdown",
   "source": "Materials",
   "id": "da9f6f46f6c5664f"
  },
  {
   "metadata": {
    "ExecuteTime": {
     "end_time": "2024-11-27T20:53:41.360054Z",
     "start_time": "2024-11-27T20:53:41.358156Z"
    }
   },
   "cell_type": "code",
   "source": [
    "materialClad = \"SiO2 (Glass) - Palik\"\n",
    "materialSi = \"Si (Silicon) - Palik\""
   ],
   "id": "f0aeba30f8470250",
   "outputs": [],
   "execution_count": 5
  },
  {
   "metadata": {
    "ExecuteTime": {
     "end_time": "2024-11-27T20:53:41.633727Z",
     "start_time": "2024-11-27T20:53:41.362774Z"
    }
   },
   "cell_type": "code",
   "source": [
    "emeApi.switchtolayout()\n",
    "emeApi.deleteall()\n",
    "emeApi.cleardcard"
   ],
   "id": "b2124d29109d8e95",
   "outputs": [
    {
     "data": {
      "text/plain": [
       "<bound method Lumerical.__init__.<locals>.<lambda>.<locals>.<lambda> of <lumapi.MODE object at 0x0000020543BA6810>>"
      ]
     },
     "execution_count": 6,
     "metadata": {},
     "output_type": "execute_result"
    }
   ],
   "execution_count": 6
  },
  {
   "metadata": {},
   "cell_type": "markdown",
   "source": "Taper",
   "id": "dbb6c6debd1de0bb"
  },
  {
   "metadata": {},
   "cell_type": "markdown",
   "source": [
    " $z′ = \\frac{(z−z0)}{(z1−z0)}$\n",
    " \n",
    "$f(z') = z'$\n",
    "\n",
    "Where z0 is the starting point and z1 is the ending point\n"
   ],
   "id": "a90a55ff11592c72"
  },
  {
   "metadata": {
    "ExecuteTime": {
     "end_time": "2024-11-27T21:02:41.383572Z",
     "start_time": "2024-11-27T21:02:41.376753Z"
    }
   },
   "cell_type": "code",
   "source": [
    "x0 = 0\n",
    "x1 = taper_length\n",
    "y1 = taper_larger_tip/2\n",
    "y0 = taper_smaller_tip/2\n",
    "x = np.linspace(x0,x1,21)\n",
    "alpha = (x-x0)/(x1-x0)\n",
    "#alpha = (np.exp((x-x0)/(x1-x0))-1)/(np.exp(1)-1)\n",
    "equation = y0 + alpha * (y1-y0)\n",
    "upper = np.column_stack((x,equation))\n",
    "lower = np.column_stack((x[::-1], -equation[::-1]))\n",
    "taper = np.vstack((upper, lower))"
   ],
   "id": "2645229b360cb19d",
   "outputs": [],
   "execution_count": 25
  },
  {
   "metadata": {
    "ExecuteTime": {
     "end_time": "2024-11-27T20:53:42.212949Z",
     "start_time": "2024-11-27T20:53:41.652914Z"
    }
   },
   "cell_type": "code",
   "source": "emeApi.addpoly()",
   "id": "6e5c61178ff5b284",
   "outputs": [
    {
     "data": {
      "text/plain": [
       "<lumapi.SimObject at 0x205438e5670>"
      ]
     },
     "execution_count": 8,
     "metadata": {},
     "output_type": "execute_result"
    }
   ],
   "execution_count": 8
  },
  {
   "metadata": {
    "ExecuteTime": {
     "end_time": "2024-11-27T21:02:53.193317Z",
     "start_time": "2024-11-27T21:02:52.206164Z"
    }
   },
   "cell_type": "code",
   "source": [
    "emeApi.set('name', 'taper')\n",
    "emeApi.set('vertices', taper)   \n",
    "emeApi.set('x', 0)\n",
    "emeApi.set('y', 0)\n",
    "emeApi.set('z', height/2)\n",
    "emeApi.set('z span', height)\n",
    "emeApi.set('material', materialSi)"
   ],
   "id": "c776d063eccc8085",
   "outputs": [],
   "execution_count": 27
  },
  {
   "metadata": {},
   "cell_type": "markdown",
   "source": [
    "referencia: 2*exp(--0.1386294361119891*x)\n",
    "meu: "
   ],
   "id": "f6b89779d23d140a"
  },
  {
   "metadata": {},
   "cell_type": "markdown",
   "source": "Wire waveguide",
   "id": "fa41b7639d9390c5"
  },
  {
   "metadata": {
    "ExecuteTime": {
     "end_time": "2024-11-27T20:53:44.856467Z",
     "start_time": "2024-11-27T20:53:43.203831Z"
    }
   },
   "cell_type": "code",
   "source": [
    "emeApi.addrect()\n",
    "emeApi.set('name', 'wire waveguide')\n",
    "emeApi.set('x', taper_length + wg_length/2)\n",
    "emeApi.set('x span', wg_length)\n",
    "emeApi.set('y', 0)\n",
    "emeApi.set('y span', wg_width)\n",
    "emeApi.set('z', height/2)\n",
    "emeApi.set('z span', height)\n",
    "emeApi.set('material', materialSi)"
   ],
   "id": "121d710d196607d2",
   "outputs": [],
   "execution_count": 10
  },
  {
   "metadata": {},
   "cell_type": "markdown",
   "source": "PECVD",
   "id": "626ce385b7f0fa39"
  },
  {
   "metadata": {
    "ExecuteTime": {
     "end_time": "2024-11-27T20:53:46.530047Z",
     "start_time": "2024-11-27T20:53:44.867967Z"
    }
   },
   "cell_type": "code",
   "source": [
    "emeApi.addrect()\n",
    "emeApi.set('name', 'buried oxide layer')\n",
    "emeApi.set('x', (taper_length+wg_length)/2)\n",
    "emeApi.set('x span', wg_length + taper_length)\n",
    "emeApi.set('y', 0)\n",
    "emeApi.set('y span', wg_width)\n",
    "emeApi.set('z', -(1*um))\n",
    "emeApi.set('z span', 2*um)\n",
    "emeApi.set('material', materialClad)"
   ],
   "id": "15c699b7aa542dff",
   "outputs": [],
   "execution_count": 11
  },
  {
   "metadata": {},
   "cell_type": "markdown",
   "source": "Analysis    ",
   "id": "333b5478e654af7b"
  },
  {
   "metadata": {
    "ExecuteTime": {
     "end_time": "2024-11-27T20:53:47.093675Z",
     "start_time": "2024-11-27T20:53:46.535697Z"
    }
   },
   "cell_type": "code",
   "source": "emeApi.addfde()",
   "id": "c6009c28cea7ca31",
   "outputs": [
    {
     "data": {
      "text/plain": [
       "<lumapi.SimObject at 0x205439dca70>"
      ]
     },
     "execution_count": 12,
     "metadata": {},
     "output_type": "execute_result"
    }
   ],
   "execution_count": 12
  },
  {
   "metadata": {
    "ExecuteTime": {
     "end_time": "2024-11-27T20:59:53.903162Z",
     "start_time": "2024-11-27T20:59:52.925063Z"
    }
   },
   "cell_type": "code",
   "source": [
    "emeApi.switchtolayout()\n",
    "emeApi.set('solver type', '2D X normal')\n",
    "emeApi.set('x', 0)\n",
    "emeApi.set('y', 0)\n",
    "emeApi.set('y span', wg_width*6)\n",
    "emeApi.set('z', (height-2*um)/2)\n",
    "emeApi.set('z span', (height + 2*um)*6) \n",
    "emeApi.set('background material', materialClad)"
   ],
   "id": "7d57fdbcaaf4274d",
   "outputs": [],
   "execution_count": 21
  },
  {
   "metadata": {
    "ExecuteTime": {
     "end_time": "2024-11-27T21:00:13.977941Z",
     "start_time": "2024-11-27T20:59:53.903162Z"
    }
   },
   "cell_type": "code",
   "source": [
    "neff_TE_mode = []\n",
    "neff_TM_mode = []\n",
    "#TE\n",
    "for i in range(len(taper_tip_sweep)):\n",
    "    emeApi.switchtolayout()\n",
    "    emeApi.select('taper')\n",
    "    y0 = taper_tip_sweep[i]/2\n",
    "    equation = y0 + alpha * (y1-y0)\n",
    "    upper = np.column_stack((x,equation))\n",
    "    lower = np.column_stack((x[::-1], -equation[::-1]))\n",
    "    taper = np.vstack((upper, lower))\n",
    "    emeApi.set('vertices', taper)\n",
    "    emeApi.run()\n",
    "    emeApi.findmodes()\n",
    "    neff_TE_mode.append(emeApi.real(emeApi.getdata('mode1', 'neff')))\n",
    "    neff_TM_mode.append(emeApi.real(emeApi.getdata('mode2', 'neff')))"
   ],
   "id": "89a5e9f97385df97",
   "outputs": [],
   "execution_count": 22
  },
  {
   "metadata": {
    "ExecuteTime": {
     "end_time": "2024-11-27T21:00:14.055604Z",
     "start_time": "2024-11-27T21:00:13.991266Z"
    }
   },
   "cell_type": "code",
   "source": [
    "plt.scatter(x=[0.05,0.1,0.2,0.3,0.4,0.5], y=[1.5,1.7,2.1,2.3,2.39,2.45], color='red')\n",
    "plt.scatter(x=[0.05,0.1,0.2,0.3,0.4,0.5], y=[1.6,1.8,2.3,2.6,2.7,2.85], color='black')\n",
    "plt.plot(taper_tip_sweep/um,neff_TE_mode, color='black', label='TE') \n",
    "plt.plot(taper_tip_sweep/um,neff_TM_mode, color='red', label='TM')\n",
    "plt.xlabel('Taper tip width (\\mu m)')\n",
    "plt.ylabel('Effective index')\n",
    "plt.ylim(1.3,3)\n",
    "plt.grid()\n",
    "plt.legend()"
   ],
   "id": "a8124c3f82920a1e",
   "outputs": [
    {
     "data": {
      "text/plain": [
       "<matplotlib.legend.Legend at 0x20543f46060>"
      ]
     },
     "execution_count": 23,
     "metadata": {},
     "output_type": "execute_result"
    },
    {
     "data": {
      "text/plain": [
       "<Figure size 640x480 with 1 Axes>"
      ],
      "image/png": "[encoded data removed]"
     },
     "metadata": {},
     "output_type": "display_data"
    }
   ],
   "execution_count": 23
  },
  {
   "metadata": {
    "ExecuteTime": {
     "end_time": "2024-11-27T20:54:08.684054Z",
     "start_time": "2024-11-27T20:54:08.680949Z"
    }
   },
   "cell_type": "code",
   "source": [
    "neff_interpol = interpolate.interp1d(taper_tip_sweep, neff_TE_mode)\n",
    "neff_interpolSmooth = interpolate.UnivariateSpline(taper_tip_sweep, neff_TE_mode)\n",
    "neff_interpolSmooth.set_smoothing_factor(500)\n",
    "\n",
    "neff_interpol2 = interpolate.interp1d(taper_tip_sweep, neff_TM_mode)\n",
    "neff_interpolSmooth = interpolate.UnivariateSpline(taper_tip_sweep, neff_TM_mode)\n",
    "neff_interpolSmooth.set_smoothing_factor(500)"
   ],
   "id": "28ec8e17c9bc3bec",
   "outputs": [],
   "execution_count": 16
  },
  {
   "metadata": {
    "ExecuteTime": {
     "end_time": "2024-11-27T20:54:08.730714Z",
     "start_time": "2024-11-27T20:54:08.692373Z"
    }
   },
   "cell_type": "code",
   "source": [
    "plt.plot(taper_tip_sweep, neff_interpol(taper_tip_sweep), color='black', label='TE')\n",
    "plt.plot(taper_tip_sweep, neff_interpol2(taper_tip_sweep), color='red', label='TM')\n",
    "plt.show()"
   ],
   "id": "87ed254e1cd558a4",
   "outputs": [
    {
     "data": {
      "text/plain": [
       "<Figure size 640x480 with 1 Axes>"
      ],
      "image/png": "[encoded data removed]"
     },
     "metadata": {},
     "output_type": "display_data"
    }
   ],
   "execution_count": 17
  }
 ],
 "metadata": {
  "kernelspec": {
   "display_name": "Python 3",
   "language": "python",
   "name": "python3"
  },
  "language_info": {
   "codemirror_mode": {
    "name": "ipython",
    "version": 2
   },
   "file_extension": ".py",
   "mimetype": "text/x-python",
   "name": "python",
   "nbconvert_exporter": "python",
   "pygments_lexer": "ipython2",
   "version": "2.7.6"
  }
 },
 "nbformat": 4,
 "nbformat_minor": 5
}
