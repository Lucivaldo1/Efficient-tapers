{
 "cells": [
  {
   "cell_type": "code",
   "id": "initial_id",
   "metadata": {
    "collapsed": true,
    "ExecuteTime": {
     "end_time": "2024-11-26T01:11:00.057607Z",
     "start_time": "2024-11-26T01:10:58.823348Z"
    }
   },
   "source": [
    "import sys, os\n",
    "import numpy as np\n",
    "import matplotlib.pyplot as plt\n",
    "import warnings\n",
    "from scipy import interpolate\n",
    "from matplotlib.pyplot import legend, title\n",
    "\n",
    "sys.path.append('C:\\\\Program Files\\\\Lumerical\\\\v221\\\\api\\\\python')\n",
    "sys.path.append('C:\\\\Program Files\\\\Lumerical\\\\v221\\\\api\\\\python\\\\lumapi.py')"
   ],
   "outputs": [],
   "execution_count": 2
  },
  {
   "metadata": {
    "ExecuteTime": {
     "end_time": "2024-11-26T01:11:02.021831Z",
     "start_time": "2024-11-26T01:11:00.058608Z"
    }
   },
   "cell_type": "code",
   "source": [
    "warnings.filterwarnings(\"ignore\", category=SyntaxWarning)\n",
    "import lumapi\n",
    "emeApi = lumapi.MODE()"
   ],
   "id": "2b632e2d1c9fdb99",
   "outputs": [],
   "execution_count": 3
  },
  {
   "metadata": {},
   "cell_type": "markdown",
   "source": "Units",
   "id": "4dc6318abe89f13a"
  },
  {
   "metadata": {
    "ExecuteTime": {
     "end_time": "2024-11-26T01:11:02.188312Z",
     "start_time": "2024-11-26T01:11:02.183716Z"
    }
   },
   "cell_type": "code",
   "source": [
    "um = 1e-6\n",
    "nm = 1e-9"
   ],
   "id": "ed7f110a3f29a668",
   "outputs": [],
   "execution_count": 4
  },
  {
   "metadata": {},
   "cell_type": "markdown",
   "source": "Device parameters",
   "id": "51a6688c1c0dfb49"
  },
  {
   "metadata": {
    "ExecuteTime": {
     "end_time": "2024-11-26T01:11:02.203162Z",
     "start_time": "2024-11-26T01:11:02.201250Z"
    }
   },
   "cell_type": "code",
   "source": [
    "#inverse tapers\n",
    "taper_length      = 300*um\n",
    "taper_larger_tip  = 0.55*um\n",
    "taper_smaller_tip = 0.1*um\n",
    "taper_tip_sweep = np.linspace(0.01*um, 0.55*um,20)\n",
    "\n",
    "#wire waveguide\n",
    "wg_length = 100*um\n",
    "wg_width  = 0.55*um\n",
    "\n",
    "#general\n",
    "height = 0.34*um"
   ],
   "id": "9f37fa0764f08952",
   "outputs": [],
   "execution_count": 5
  },
  {
   "metadata": {},
   "cell_type": "markdown",
   "source": "Materials",
   "id": "da9f6f46f6c5664f"
  },
  {
   "metadata": {
    "ExecuteTime": {
     "end_time": "2024-11-26T01:11:02.209689Z",
     "start_time": "2024-11-26T01:11:02.207868Z"
    }
   },
   "cell_type": "code",
   "source": [
    "materialClad = \"SiO2 (Glass) - Palik\"\n",
    "materialSi = \"Si (Silicon) - Palik\""
   ],
   "id": "f0aeba30f8470250",
   "outputs": [],
   "execution_count": 6
  },
  {
   "metadata": {
    "ExecuteTime": {
     "end_time": "2024-11-26T01:11:02.499781Z",
     "start_time": "2024-11-26T01:11:02.216965Z"
    }
   },
   "cell_type": "code",
   "source": [
    "emeApi.switchtolayout()\n",
    "emeApi.deleteall()\n",
    "emeApi.cleardcard"
   ],
   "id": "b2124d29109d8e95",
   "outputs": [
    {
     "data": {
      "text/plain": [
       "<bound method Lumerical.__init__.<locals>.<lambda>.<locals>.<lambda> of <lumapi.MODE object at 0x000001FAFF5ACD70>>"
      ]
     },
     "execution_count": 7,
     "metadata": {},
     "output_type": "execute_result"
    }
   ],
   "execution_count": 7
  },
  {
   "metadata": {},
   "cell_type": "markdown",
   "source": "Taper",
   "id": "dbb6c6debd1de0bb"
  },
  {
   "metadata": {
    "ExecuteTime": {
     "end_time": "2024-11-26T01:11:06.602146Z",
     "start_time": "2024-11-26T01:11:02.505802Z"
    }
   },
   "cell_type": "code",
   "source": [
    "emeApi.addobject('linear_taper')\n",
    "emeApi.set('thickness', height)\n",
    "emeApi.set('angle_side', 90)\n",
    "emeApi.set('width_l', taper_smaller_tip)\n",
    "emeApi.set('width_r', taper_larger_tip)\n",
    "emeApi.set('len', taper_length)\n",
    "emeApi.set('material', materialSi)\n",
    "emeApi.set('x', 0)\n",
    "emeApi.set('y', 0)\n",
    "emeApi.set('z', height/2)"
   ],
   "id": "2645229b360cb19d",
   "outputs": [],
   "execution_count": 8
  },
  {
   "metadata": {},
   "cell_type": "markdown",
   "source": "Wire waveguide",
   "id": "fa41b7639d9390c5"
  },
  {
   "metadata": {
    "ExecuteTime": {
     "end_time": "2024-11-26T01:11:08.276638Z",
     "start_time": "2024-11-26T01:11:06.610210Z"
    }
   },
   "cell_type": "code",
   "source": [
    "emeApi.addrect()\n",
    "emeApi.set('name', 'wire waveguide')\n",
    "emeApi.set('x', (taper_length + wg_length)/2)\n",
    "emeApi.set('x span', wg_length)\n",
    "emeApi.set('y', 0)\n",
    "emeApi.set('y span', wg_width)\n",
    "emeApi.set('z', height/2)\n",
    "emeApi.set('z span', height)\n",
    "emeApi.set('material', materialSi)"
   ],
   "id": "121d710d196607d2",
   "outputs": [],
   "execution_count": 9
  },
  {
   "metadata": {},
   "cell_type": "markdown",
   "source": "PECVD",
   "id": "626ce385b7f0fa39"
  },
  {
   "metadata": {
    "ExecuteTime": {
     "end_time": "2024-11-26T01:11:08.290299Z",
     "start_time": "2024-11-26T01:11:08.286802Z"
    }
   },
   "cell_type": "code",
   "source": [
    "'''emeApi.addrect()\n",
    "emeApi.set('name', 'PECVD')\n",
    "emeApi.set('x',0)\n",
    "emeApi.set('x span', (wg_length + taper_length)*1.5)\n",
    "emeApi.set('y', 0)\n",
    "emeApi.set('y span', wg_width)\n",
    "emeApi.set('z min', 0)\n",
    "emeApi.set('z max', 0.5*um)\n",
    "emeApi.set('material', materialClad)'''"
   ],
   "id": "15c699b7aa542dff",
   "outputs": [
    {
     "data": {
      "text/plain": [
       "\"emeApi.addrect()\\nemeApi.set('name', 'PECVD')\\nemeApi.set('x',0)\\nemeApi.set('x span', (wg_length + taper_length)*1.5)\\nemeApi.set('y', 0)\\nemeApi.set('y span', wg_width)\\nemeApi.set('z min', 0)\\nemeApi.set('z max', 0.5*um)\\nemeApi.set('material', materialClad)\""
      ]
     },
     "execution_count": 10,
     "metadata": {},
     "output_type": "execute_result"
    }
   ],
   "execution_count": 10
  },
  {
   "metadata": {},
   "cell_type": "markdown",
   "source": "Analysis    ",
   "id": "333b5478e654af7b"
  },
  {
   "metadata": {
    "ExecuteTime": {
     "end_time": "2024-11-26T01:11:09.686254Z",
     "start_time": "2024-11-26T01:11:08.296634Z"
    }
   },
   "cell_type": "code",
   "source": [
    "emeApi.addfde()\n",
    "emeApi.set('solver type', '2D X normal')\n",
    "emeApi.set('x', -taper_length/2)\n",
    "#emeApi.set('x span', wg_length+taper_length*1.5)\n",
    "emeApi.set('y', 0)\n",
    "emeApi.set('y span', wg_width*1.5)\n",
    "emeApi.set('z', 0)\n",
    "emeApi.set('background material', materialClad)"
   ],
   "id": "c6009c28cea7ca31",
   "outputs": [],
   "execution_count": 11
  },
  {
   "metadata": {
    "ExecuteTime": {
     "end_time": "2024-11-26T01:11:50.541538Z",
     "start_time": "2024-11-26T01:11:09.698969Z"
    }
   },
   "cell_type": "code",
   "source": [
    "neff_TE_mode = []\n",
    "neff_TM_mode = []\n",
    "#TE\n",
    "for i in range(len(taper_tip_sweep)):\n",
    "    emeApi.switchtolayout()\n",
    "    emeApi.setnamed('linear_taper','width_l', taper_tip_sweep[i])\n",
    "    emeApi.run()\n",
    "    emeApi.findmodes()\n",
    "    neff_mode1 = emeApi.real(emeApi.getdata('mode1', 'TE polarization fraction'))\n",
    "    neff_mode2 = emeApi.real(emeApi.getdata('mode2', 'TE polarization fraction'))\n",
    "    if neff_mode1 > 0.5:\n",
    "        neff_TE_mode.append(emeApi.real(emeApi.getdata('mode1', 'neff')))\n",
    "    elif neff_mode1 < 0.5:\n",
    "        neff_TM_mode.append(emeApi.real(emeApi.getdata('mode1', 'neff')))\n",
    "    \n",
    "    if neff_mode2 > 0.5:\n",
    "        neff_TE_mode.append(emeApi.real(emeApi.getdata('mode2', 'neff')))\n",
    "    elif neff_mode2 < 0.5:\n",
    "        neff_TM_mode.append(emeApi.real(emeApi.getdata('mode2', 'neff')))\n",
    "    \n",
    "    "
   ],
   "id": "89a5e9f97385df97",
   "outputs": [],
   "execution_count": 12
  },
  {
   "metadata": {
    "ExecuteTime": {
     "end_time": "2024-11-26T01:11:50.822165Z",
     "start_time": "2024-11-26T01:11:50.552263Z"
    }
   },
   "cell_type": "code",
   "source": "print(emeApi.real(emeApi.getdata('mode1', 'TE polarization fraction')))",
   "id": "7a4b5dc3d69d9f03",
   "outputs": [
    {
     "name": "stdout",
     "output_type": "stream",
     "text": [
      "0.9939475961264888\n"
     ]
    }
   ],
   "execution_count": 13
  },
  {
   "metadata": {
    "ExecuteTime": {
     "end_time": "2024-11-26T01:11:50.907490Z",
     "start_time": "2024-11-26T01:11:50.831726Z"
    }
   },
   "cell_type": "code",
   "source": [
    "plt.plot(taper_tip_sweep/um,neff_TE_mode, color='black', label='TE') \n",
    "plt.plot(taper_tip_sweep/um,neff_TM_mode, color='red', label='TM')\n",
    "plt.xlabel('Taper tip width (\\mu m)')\n",
    "plt.ylabel('Effective index')\n",
    "plt.grid()\n",
    "plt.legend()"
   ],
   "id": "a8124c3f82920a1e",
   "outputs": [
    {
     "data": {
      "text/plain": [
       "<matplotlib.legend.Legend at 0x1faffc6baa0>"
      ]
     },
     "execution_count": 14,
     "metadata": {},
     "output_type": "execute_result"
    },
    {
     "data": {
      "text/plain": [
       "<Figure size 640x480 with 1 Axes>"
      ],
      "image/png": "[encoded data removed]"
     },
     "metadata": {},
     "output_type": "display_data"
    }
   ],
   "execution_count": 14
  },
  {
   "metadata": {
    "ExecuteTime": {
     "end_time": "2024-11-26T01:11:50.914207Z",
     "start_time": "2024-11-26T01:11:50.910867Z"
    }
   },
   "cell_type": "code",
   "source": [
    "neff_interpol = interpolate.interp1d(taper_tip_sweep, neff_TE_mode)\n",
    "neff_interpolSmooth = interpolate.UnivariateSpline(taper_tip_sweep, neff_TE_mode)\n",
    "neff_interpolSmooth.set_smoothing_factor(500)\n",
    "\n",
    "neff_interpol2 = interpolate.interp1d(taper_tip_sweep, neff_TM_mode)\n",
    "neff_interpolSmooth = interpolate.UnivariateSpline(taper_tip_sweep, neff_TM_mode)\n",
    "neff_interpolSmooth.set_smoothing_factor(500)"
   ],
   "id": "28ec8e17c9bc3bec",
   "outputs": [],
   "execution_count": 15
  },
  {
   "metadata": {
    "ExecuteTime": {
     "end_time": "2024-11-26T01:11:50.967246Z",
     "start_time": "2024-11-26T01:11:50.918127Z"
    }
   },
   "cell_type": "code",
   "source": [
    "plt.plot(taper_tip_sweep, neff_interpol(taper_tip_sweep), color='black', label='TE')\n",
    "plt.plot(taper_tip_sweep, neff_interpol2(taper_tip_sweep), color='red', label='TM')\n",
    "plt.show()"
   ],
   "id": "87ed254e1cd558a4",
   "outputs": [
    {
     "data": {
      "text/plain": [
       "<Figure size 640x480 with 1 Axes>"
      ],
      "image/png": "[encoded data removed]"
     },
     "metadata": {},
     "output_type": "display_data"
    }
   ],
   "execution_count": 16
  },
  {
   "metadata": {
    "ExecuteTime": {
     "end_time": "2024-11-26T01:11:50.972663Z",
     "start_time": "2024-11-26T01:11:50.971031Z"
    }
   },
   "cell_type": "code",
   "source": "",
   "id": "eff2abb7819fe441",
   "outputs": [],
   "execution_count": null
  }
 ],
 "metadata": {
  "kernelspec": {
   "display_name": "Python 3",
   "language": "python",
   "name": "python3"
  },
  "language_info": {
   "codemirror_mode": {
    "name": "ipython",
    "version": 2
   },
   "file_extension": ".py",
   "mimetype": "text/x-python",
   "name": "python",
   "nbconvert_exporter": "python",
   "pygments_lexer": "ipython2",
   "version": "2.7.6"
  }
 },
 "nbformat": 4,
 "nbformat_minor": 5
}
