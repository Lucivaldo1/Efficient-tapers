{
 "cells": [
  {
   "cell_type": "code",
   "id": "initial_id",
   "metadata": {
    "collapsed": true,
    "ExecuteTime": {
     "end_time": "2024-11-19T13:22:53.026095Z",
     "start_time": "2024-11-19T13:22:53.021118Z"
    }
   },
   "source": [
    "import sys, os\n",
    "import numpy as np\n",
    "import matplotlib.pyplot as plt\n",
    "import warnings\n",
    "from scipy import interpolate\n",
    "from matplotlib.pyplot import legend, title\n",
    "\n",
    "sys.path.append('C:\\\\Program Files\\\\Lumerical\\\\v221\\\\api\\\\python')\n",
    "sys.path.append('C:\\\\Program Files\\\\Lumerical\\\\v221\\\\api\\\\python\\\\lumapi.py')"
   ],
   "outputs": [],
   "execution_count": 261
  },
  {
   "metadata": {
    "ExecuteTime": {
     "end_time": "2024-11-19T13:22:55.485749Z",
     "start_time": "2024-11-19T13:22:53.026095Z"
    }
   },
   "cell_type": "code",
   "source": [
    "warnings.filterwarnings(\"ignore\", category=SyntaxWarning)\n",
    "import lumapi\n",
    "emeApi = lumapi.MODE()"
   ],
   "id": "2b632e2d1c9fdb99",
   "outputs": [],
   "execution_count": 262
  },
  {
   "metadata": {},
   "cell_type": "markdown",
   "source": "Units",
   "id": "4dc6318abe89f13a"
  },
  {
   "metadata": {
    "ExecuteTime": {
     "end_time": "2024-11-19T13:22:55.635206Z",
     "start_time": "2024-11-19T13:22:55.629019Z"
    }
   },
   "cell_type": "code",
   "source": [
    "um = 1e-6\n",
    "nm = 1e-9"
   ],
   "id": "ed7f110a3f29a668",
   "outputs": [],
   "execution_count": 263
  },
  {
   "metadata": {},
   "cell_type": "markdown",
   "source": "Device parameters",
   "id": "51a6688c1c0dfb49"
  },
  {
   "metadata": {
    "ExecuteTime": {
     "end_time": "2024-11-19T13:25:36.207580Z",
     "start_time": "2024-11-19T13:25:36.193971Z"
    }
   },
   "cell_type": "code",
   "source": [
    "#inverse tapers\n",
    "taper_length      = 300*um\n",
    "taper_larger_tip  = 0.55*um\n",
    "taper_smaller_tip = 0.1*um\n",
    "taper_tip_sweep = np.linspace(0.01*um, 0.55*um,25)\n",
    "\n",
    "#wire waveguide\n",
    "wg_length = 100*um\n",
    "wg_width  = 0.55*um\n",
    "\n",
    "#general\n",
    "height = 0.34*um"
   ],
   "id": "9f37fa0764f08952",
   "outputs": [],
   "execution_count": 278
  },
  {
   "metadata": {},
   "cell_type": "markdown",
   "source": "Materials",
   "id": "da9f6f46f6c5664f"
  },
  {
   "metadata": {
    "ExecuteTime": {
     "end_time": "2024-11-19T13:22:55.647374Z",
     "start_time": "2024-11-19T13:22:55.645336Z"
    }
   },
   "cell_type": "code",
   "source": [
    "materialClad = \"SiO2 (Glass) - Palik\"\n",
    "materialSi = \"Si (Silicon) - Palik\""
   ],
   "id": "f0aeba30f8470250",
   "outputs": [],
   "execution_count": 265
  },
  {
   "metadata": {
    "ExecuteTime": {
     "end_time": "2024-11-19T13:22:55.924318Z",
     "start_time": "2024-11-19T13:22:55.650610Z"
    }
   },
   "cell_type": "code",
   "source": [
    "emeApi.switchtolayout()\n",
    "emeApi.deleteall()\n",
    "emeApi.cleardcard"
   ],
   "id": "b2124d29109d8e95",
   "outputs": [
    {
     "data": {
      "text/plain": [
       "<bound method Lumerical.__init__.<locals>.<lambda>.<locals>.<lambda> of <lumapi.MODE object at 0x000001E059430260>>"
      ]
     },
     "execution_count": 266,
     "metadata": {},
     "output_type": "execute_result"
    }
   ],
   "execution_count": 266
  },
  {
   "metadata": {},
   "cell_type": "markdown",
   "source": "Taper",
   "id": "dbb6c6debd1de0bb"
  },
  {
   "metadata": {
    "ExecuteTime": {
     "end_time": "2024-11-19T13:22:59.787309Z",
     "start_time": "2024-11-19T13:22:55.996550Z"
    }
   },
   "cell_type": "code",
   "source": [
    "emeApi.addobject('linear_taper')\n",
    "emeApi.set('thickness', height)\n",
    "emeApi.set('angle_side', 90)\n",
    "emeApi.set('width_l', taper_smaller_tip)\n",
    "emeApi.set('width_r', taper_larger_tip)\n",
    "emeApi.set('len', taper_length)\n",
    "emeApi.set('material', materialSi)\n",
    "emeApi.set('x', 0)\n",
    "emeApi.set('y', 0)\n",
    "emeApi.set('z', height/2)"
   ],
   "id": "2645229b360cb19d",
   "outputs": [],
   "execution_count": 267
  },
  {
   "metadata": {},
   "cell_type": "markdown",
   "source": "Wire waveguide",
   "id": "fa41b7639d9390c5"
  },
  {
   "metadata": {
    "ExecuteTime": {
     "end_time": "2024-11-19T13:23:01.484449Z",
     "start_time": "2024-11-19T13:22:59.798532Z"
    }
   },
   "cell_type": "code",
   "source": [
    "emeApi.addrect()\n",
    "emeApi.set('name', 'wire waveguide')\n",
    "emeApi.set('x', (taper_length + wg_length)/2)\n",
    "emeApi.set('x span', wg_length)\n",
    "emeApi.set('y', 0)\n",
    "emeApi.set('y span', wg_width)\n",
    "emeApi.set('z', height/2)\n",
    "emeApi.set('z span', height)\n",
    "emeApi.set('material', materialSi)"
   ],
   "id": "121d710d196607d2",
   "outputs": [],
   "execution_count": 268
  },
  {
   "metadata": {},
   "cell_type": "markdown",
   "source": "PECVD",
   "id": "626ce385b7f0fa39"
  },
  {
   "metadata": {
    "ExecuteTime": {
     "end_time": "2024-11-19T13:23:01.500539Z",
     "start_time": "2024-11-19T13:23:01.496455Z"
    }
   },
   "cell_type": "code",
   "source": [
    "'''emeApi.addrect()\n",
    "emeApi.set('name', 'PECVD')\n",
    "emeApi.set('x',0)\n",
    "emeApi.set('x span', (wg_length + taper_length)*1.5)\n",
    "emeApi.set('y', 0)\n",
    "emeApi.set('y span', wg_width)\n",
    "emeApi.set('z min', 0)\n",
    "emeApi.set('z max', 0.5*um)\n",
    "emeApi.set('material', materialClad)'''"
   ],
   "id": "15c699b7aa542dff",
   "outputs": [
    {
     "data": {
      "text/plain": [
       "\"emeApi.addrect()\\nemeApi.set('name', 'PECVD')\\nemeApi.set('x',0)\\nemeApi.set('x span', (wg_length + taper_length)*1.5)\\nemeApi.set('y', 0)\\nemeApi.set('y span', wg_width)\\nemeApi.set('z min', 0)\\nemeApi.set('z max', 0.5*um)\\nemeApi.set('material', materialClad)\""
      ]
     },
     "execution_count": 269,
     "metadata": {},
     "output_type": "execute_result"
    }
   ],
   "execution_count": 269
  },
  {
   "metadata": {},
   "cell_type": "markdown",
   "source": "Analysis    ",
   "id": "333b5478e654af7b"
  },
  {
   "metadata": {
    "ExecuteTime": {
     "end_time": "2024-11-19T13:23:02.904691Z",
     "start_time": "2024-11-19T13:23:01.504024Z"
    }
   },
   "cell_type": "code",
   "source": [
    "emeApi.addfde()\n",
    "emeApi.set('solver type', '2D X normal')\n",
    "emeApi.set('x', -taper_length/2)\n",
    "#emeApi.set('x span', wg_length+taper_length*1.5)\n",
    "emeApi.set('y', 0)\n",
    "emeApi.set('y span', wg_width*1.5)\n",
    "emeApi.set('z', 0)\n",
    "emeApi.set('background material', materialClad)"
   ],
   "id": "c6009c28cea7ca31",
   "outputs": [],
   "execution_count": 270
  },
  {
   "metadata": {
    "ExecuteTime": {
     "end_time": "2024-11-19T13:32:26.289302Z",
     "start_time": "2024-11-19T13:31:36.656951Z"
    }
   },
   "cell_type": "code",
   "source": [
    "neff_TE_mode = []\n",
    "neff_TM_mode = []\n",
    "#TE\n",
    "for i in range(len(taper_tip_sweep)):\n",
    "    emeApi.switchtolayout()\n",
    "    emeApi.setnamed('linear_taper','width_l', taper_tip_sweep[i])\n",
    "    emeApi.run()\n",
    "    emeApi.findmodes()\n",
    "    neff_mode1 = emeApi.real(emeApi.getdata('mode1', 'TE polarization fraction'))\n",
    "    neff_mode2 = emeApi.real(emeApi.getdata('mode2', 'TE polarization fraction'))\n",
    "    if neff_mode1 > 0.5:\n",
    "        neff_TE_mode.append(emeApi.real(emeApi.getdata('mode1', 'neff')))\n",
    "    elif neff_mode1 < 0.5:\n",
    "        neff_TM_mode.append(emeApi.real(emeApi.getdata('mode1', 'neff')))\n",
    "    \n",
    "    if neff_mode2 > 0.5:\n",
    "        neff_TE_mode.append(emeApi.real(emeApi.getdata('mode2', 'neff')))\n",
    "    elif neff_mode2 < 0.5:\n",
    "        neff_TM_mode.append(emeApi.real(emeApi.getdata('mode2', 'neff')))\n",
    "    \n",
    "    "
   ],
   "id": "89a5e9f97385df97",
   "outputs": [],
   "execution_count": 286
  },
  {
   "metadata": {
    "ExecuteTime": {
     "end_time": "2024-11-19T13:29:21.035791Z",
     "start_time": "2024-11-19T13:29:20.760384Z"
    }
   },
   "cell_type": "code",
   "source": "print(emeApi.real(emeApi.getdata('mode1', 'TE polarization fraction')))",
   "id": "7a4b5dc3d69d9f03",
   "outputs": [
    {
     "name": "stdout",
     "output_type": "stream",
     "text": [
      "0.993947596126489\n"
     ]
    }
   ],
   "execution_count": 285
  },
  {
   "metadata": {
    "ExecuteTime": {
     "end_time": "2024-11-26T00:36:19.948256Z",
     "start_time": "2024-11-26T00:36:19.849243Z"
    }
   },
   "cell_type": "code",
   "source": [
    "plt.plot(taper_tip_sweep/um,neff_TE_mode, color='black', label='TE') \n",
    "plt.plot(taper_tip_sweep/um,neff_TM_mode, color='red', label='TM')\n",
    "plt.xlabel('Taper tip width (\\mu m)')\n",
    "plt.ylabel('Effective index')\n",
    "plt.grid()\n",
    "plt.legend()"
   ],
   "id": "a8124c3f82920a1e",
   "outputs": [
    {
     "name": "stderr",
     "output_type": "stream",
     "text": [
      "<>:3: SyntaxWarning: invalid escape sequence '\\m'\n",
      "<>:3: SyntaxWarning: invalid escape sequence '\\m'\n",
      "C:\\Users\\luciv\\AppData\\Local\\Temp\\ipykernel_7116\\1277004840.py:3: SyntaxWarning: invalid escape sequence '\\m'\n",
      "  plt.xlabel('Taper tip width (\\mu m)')\n",
      "C:\\Users\\luciv\\AppData\\Local\\Temp\\ipykernel_7116\\1277004840.py:3: SyntaxWarning: invalid escape sequence '\\m'\n",
      "  plt.xlabel('Taper tip width (\\mu m)')\n"
     ]
    },
    {
     "ename": "NameError",
     "evalue": "name 'plt' is not defined",
     "output_type": "error",
     "traceback": [
      "\u001B[1;31m---------------------------------------------------------------------------\u001B[0m",
      "\u001B[1;31mNameError\u001B[0m                                 Traceback (most recent call last)",
      "Cell \u001B[1;32mIn[1], line 1\u001B[0m\n\u001B[1;32m----> 1\u001B[0m \u001B[43mplt\u001B[49m\u001B[38;5;241m.\u001B[39mplot(taper_tip_sweep\u001B[38;5;241m/\u001B[39mum,neff_TE_mode, color\u001B[38;5;241m=\u001B[39m\u001B[38;5;124m'\u001B[39m\u001B[38;5;124mblack\u001B[39m\u001B[38;5;124m'\u001B[39m, label\u001B[38;5;241m=\u001B[39m\u001B[38;5;124m'\u001B[39m\u001B[38;5;124mTE\u001B[39m\u001B[38;5;124m'\u001B[39m) \n\u001B[0;32m      2\u001B[0m plt\u001B[38;5;241m.\u001B[39mplot(taper_tip_sweep\u001B[38;5;241m/\u001B[39mum,neff_TM_mode, color\u001B[38;5;241m=\u001B[39m\u001B[38;5;124m'\u001B[39m\u001B[38;5;124mred\u001B[39m\u001B[38;5;124m'\u001B[39m, label\u001B[38;5;241m=\u001B[39m\u001B[38;5;124m'\u001B[39m\u001B[38;5;124mTM\u001B[39m\u001B[38;5;124m'\u001B[39m)\n\u001B[0;32m      3\u001B[0m plt\u001B[38;5;241m.\u001B[39mxlabel(\u001B[38;5;124m'\u001B[39m\u001B[38;5;124mTaper tip width (\u001B[39m\u001B[38;5;124m\\\u001B[39m\u001B[38;5;124mmu m)\u001B[39m\u001B[38;5;124m'\u001B[39m)\n",
      "\u001B[1;31mNameError\u001B[0m: name 'plt' is not defined"
     ]
    }
   ],
   "execution_count": 1
  },
  {
   "metadata": {
    "ExecuteTime": {
     "end_time": "2024-11-19T13:23:43.402642Z",
     "start_time": "2024-11-19T13:23:43.400028Z"
    }
   },
   "cell_type": "code",
   "source": [
    "neff_interpol = interpolate.interp1d(taper_tip_sweep, neff_TE_mode)\n",
    "neff_interpolSmooth = interpolate.UnivariateSpline(taper_tip_sweep, neff_TE_mode)\n",
    "neff_interpolSmooth.set_smoothing_factor(500)\n",
    "\n",
    "neff_interpol2 = interpolate.interp1d(taper_tip_sweep, neff_TM_mode)\n",
    "neff_interpolSmooth = interpolate.UnivariateSpline(taper_tip_sweep, neff_TM_mode)\n",
    "neff_interpolSmooth.set_smoothing_factor(500)"
   ],
   "id": "28ec8e17c9bc3bec",
   "outputs": [],
   "execution_count": 273
  },
  {
   "metadata": {
    "ExecuteTime": {
     "end_time": "2024-11-19T13:23:43.443523Z",
     "start_time": "2024-11-19T13:23:43.405971Z"
    }
   },
   "cell_type": "code",
   "source": [
    "plt.plot(taper_tip_sweep, neff_interpol(taper_tip_sweep), color='black', label='TE')\n",
    "plt.plot(taper_tip_sweep, neff_interpol2(taper_tip_sweep), color='red', label='TM')\n",
    "plt.show()"
   ],
   "id": "87ed254e1cd558a4",
   "outputs": [
    {
     "data": {
      "text/plain": [
       "<Figure size 640x480 with 1 Axes>"
      ],
      "image/png": "[encoded data removed]"
     },
     "metadata": {},
     "output_type": "display_data"
    }
   ],
   "execution_count": 274
  },
  {
   "metadata": {
    "ExecuteTime": {
     "end_time": "2024-11-19T13:23:43.448981Z",
     "start_time": "2024-11-19T13:23:43.447197Z"
    }
   },
   "cell_type": "code",
   "source": "",
   "id": "eff2abb7819fe441",
   "outputs": [],
   "execution_count": null
  }
 ],
 "metadata": {
  "kernelspec": {
   "display_name": "Python 3",
   "language": "python",
   "name": "python3"
  },
  "language_info": {
   "codemirror_mode": {
    "name": "ipython",
    "version": 2
   },
   "file_extension": ".py",
   "mimetype": "text/x-python",
   "name": "python",
   "nbconvert_exporter": "python",
   "pygments_lexer": "ipython2",
   "version": "2.7.6"
  }
 },
 "nbformat": 4,
 "nbformat_minor": 5
}
